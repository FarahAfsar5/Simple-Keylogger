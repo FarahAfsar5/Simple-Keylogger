{
  "nbformat": 4,
  "nbformat_minor": 0,
  "metadata": {
    "colab": {
      "provenance": []
    },
    "kernelspec": {
      "name": "python3",
      "display_name": "Python 3"
    },
    "language_info": {
      "name": "python"
    }
  },
  "cells": [
    {
      "cell_type": "code",
      "execution_count": null,
      "metadata": {
        "colab": {
          "base_uri": "https://localhost:8080/"
        },
        "id": "ROynTcXvxnzT",
        "outputId": "a5bdbd6c-65b0-416e-c030-ddbaab346808"
      },
      "outputs": [
        {
          "output_type": "stream",
          "name": "stdout",
          "text": [
            "🔐 Simple Keylogger Simulation Started\n",
            "Type something below. Type 'exit' to stop.\n",
            "\n",
            "👉 Enter text: I am Happy Alhumdulilah\n",
            "💾 Logged!\n",
            "👉 Enter text: Alhumdulilah\n",
            "💾 Logged!\n",
            "👉 Enter text: exit\n",
            "✅ Logging stopped. Log saved in key_log.txt\n",
            "\n",
            "📄 Keylogger Log File Content:\n",
            "\n",
            "Fri Aug 29 12:22:37 2025 - I am Happy Alhumdulilah\n",
            "Fri Aug 29 12:22:51 2025 - Alhumdulilah\n",
            "\n"
          ]
        }
      ],
      "source": [
        "# ============================================\n",
        "# Task-04: Simple Keylogger (Simulation for Colab)\n",
        "# ============================================\n",
        "\n",
        "import time\n",
        "\n",
        "def simple_keylogger():\n",
        "    print(\"🔐 Simple Keylogger Simulation Started\")\n",
        "    print(\"Type something below. Type 'exit' to stop.\\n\")\n",
        "\n",
        "    log_filename = \"key_log.txt\"\n",
        "\n",
        "    with open(log_filename, \"a\") as log_file:\n",
        "        while True:\n",
        "            # Get user input (acts as keystrokes in Colab)\n",
        "            user_input = input(\"👉 Enter text: \")\n",
        "\n",
        "            if user_input.lower() == \"exit\":\n",
        "                print(\"✅ Logging stopped. Log saved in key_log.txt\")\n",
        "                break\n",
        "\n",
        "            # Log with timestamp\n",
        "            log_file.write(f\"{time.ctime()} - {user_input}\\n\")\n",
        "            print(\"💾 Logged!\")\n",
        "\n",
        "# Run the simulation\n",
        "simple_keylogger()\n",
        "\n",
        "# ============================================\n",
        "# Show the content of the log file\n",
        "# ============================================\n",
        "\n",
        "with open(\"key_log.txt\", \"r\") as f:\n",
        "    logs = f.read()\n",
        "\n",
        "print(\"\\n📄 Keylogger Log File Content:\\n\")\n",
        "print(logs)\n",
        "\n"
      ]
    }
  ]
}